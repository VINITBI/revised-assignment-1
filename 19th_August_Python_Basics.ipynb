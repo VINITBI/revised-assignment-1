{
 "cells": [
  {
   "cell_type": "code",
   "execution_count": null,
   "metadata": {},
   "outputs": [],
   "source": [
    "# Python Basics Variable"
   ]
  },
  {
   "cell_type": "code",
   "execution_count": null,
   "metadata": {},
   "outputs": [],
   "source": [
    "# 1. Declare two variables, `x` and `y`, and assign them integer values. Swap the\n",
    "# values of these variables without using any temporary variable."
   ]
  },
  {
   "cell_type": "code",
   "execution_count": 1,
   "metadata": {},
   "outputs": [
    {
     "name": "stdout",
     "output_type": "stream",
     "text": [
      "x = 10\n",
      "y = 5\n"
     ]
    }
   ],
   "source": [
    "x = 5\n",
    "y = 10\n",
    "\n",
    "x, y = y, x\n",
    "print(\"x =\", x)\n",
    "print(\"y =\", y)"
   ]
  },
  {
   "cell_type": "code",
   "execution_count": 3,
   "metadata": {},
   "outputs": [],
   "source": [
    "#2. Create a program that calculates the area of a rectangle. Take the length and\n",
    "# width as inputs from the user and store them in variables. Calculate and\n",
    "# display the area \"\"\"\n"
   ]
  },
  {
   "cell_type": "code",
   "execution_count": 5,
   "metadata": {},
   "outputs": [
    {
     "name": "stdin",
     "output_type": "stream",
     "text": [
      "enter the length 5\n",
      "enter the wisth 5\n"
     ]
    },
    {
     "name": "stdout",
     "output_type": "stream",
     "text": [
      "25.0\n"
     ]
    }
   ],
   "source": [
    "length  = float (input (\"enter the length\"))\n",
    "width = float (input (\"enter the wisth\"))\n",
    "\n",
    "area = length*width\n",
    "\n",
    "print(area)\n",
    "                 "
   ]
  },
  {
   "cell_type": "code",
   "execution_count": 6,
   "metadata": {},
   "outputs": [],
   "source": [
    "# 3  Write a Python program that converts temperatures from Celsius to Fahrenheit. Take the temperature in \n",
    "# Celsius as input, store it in a variable, convert it to Fahrenheit, and display the result."
   ]
  },
  {
   "cell_type": "code",
   "execution_count": 4,
   "metadata": {},
   "outputs": [
    {
     "name": "stdin",
     "output_type": "stream",
     "text": [
      "enter the tem in celsius 23\n"
     ]
    },
    {
     "name": "stdout",
     "output_type": "stream",
     "text": [
      "FT is  73.4\n"
     ]
    }
   ],
   "source": [
    "celsius_tem = float (input(\"enter the tem in celsius\"))\n",
    "\n",
    "# f = (C*9/5)+32\n",
    "\n",
    "fahrenheit_tem = (celsius_tem*9/5)+32\n",
    "\n",
    "print(\"FT is \",fahrenheit_tem )"
   ]
  },
  {
   "cell_type": "code",
   "execution_count": 5,
   "metadata": {},
   "outputs": [],
   "source": [
    "# TOPIC: String Based Questions"
   ]
  },
  {
   "cell_type": "code",
   "execution_count": 6,
   "metadata": {},
   "outputs": [],
   "source": [
    "# 1. Write a Python program that takes a string as input and prints the length of\n",
    " # the string.\n"
   ]
  },
  {
   "cell_type": "code",
   "execution_count": 13,
   "metadata": {},
   "outputs": [
    {
     "name": "stdin",
     "output_type": "stream",
     "text": [
      "enter a string vineetiscivilengineer\n"
     ]
    },
    {
     "name": "stdout",
     "output_type": "stream",
     "text": [
      "Length of string is 21\n"
     ]
    }
   ],
   "source": [
    "Input_string = input(\"enter a string\")\n",
    "\n",
    "string_length = len(Input_string)\n",
    "\n",
    "print(\"Length of string is\" ,string_length)"
   ]
  },
  {
   "cell_type": "code",
   "execution_count": 14,
   "metadata": {},
   "outputs": [],
   "source": [
    "# 2. Create a program that takes a sentence from the user and counts the number\n",
    "# of vowels (a, e, i, o, u) in the string."
   ]
  },
  {
   "cell_type": "code",
   "execution_count": 17,
   "metadata": {},
   "outputs": [
    {
     "name": "stdin",
     "output_type": "stream",
     "text": [
      "wright use sentence my name is vineet billore\n"
     ]
    },
    {
     "name": "stdout",
     "output_type": "stream",
     "text": [
      "num of vowel 9\n"
     ]
    }
   ],
   "source": [
    "sentence = input(\"wright use sentence\")\n",
    "\n",
    "vowel_count = 0\n",
    "\n",
    "for char in sentence:\n",
    "    char_lower = char.lower()\n",
    "    if char_lower in \"aeiou\":\n",
    "        vowel_count +=1\n",
    "print(\"num of vowel\",vowel_count)"
   ]
  },
  {
   "cell_type": "code",
   "execution_count": 18,
   "metadata": {},
   "outputs": [],
   "source": [
    "# 3. Given a string, reverse the order of characters using string slicing and print\n",
    "# the reversed string."
   ]
  },
  {
   "cell_type": "code",
   "execution_count": 19,
   "metadata": {},
   "outputs": [
    {
     "name": "stdin",
     "output_type": "stream",
     "text": [
      " my name is vineet billore ,i am civil engineer \n"
     ]
    },
    {
     "name": "stdout",
     "output_type": "stream",
     "text": [
      " reenigne livic ma i, erollib teeniv si eman ym\n"
     ]
    }
   ],
   "source": [
    "string = input()\n",
    "\n",
    "reverse_string = string[::-1]\n",
    "\n",
    "print(reverse_string)"
   ]
  },
  {
   "cell_type": "code",
   "execution_count": 20,
   "metadata": {},
   "outputs": [],
   "source": [
    "#. Write a program that takes a string as input and checks if it is a palindrome\n",
    "# (reads the same forwards and backwards)."
   ]
  },
  {
   "cell_type": "code",
   "execution_count": 29,
   "metadata": {},
   "outputs": [
    {
     "name": "stdin",
     "output_type": "stream",
     "text": [
      " ttytt\n"
     ]
    },
    {
     "name": "stdout",
     "output_type": "stream",
     "text": [
      "the input is a palindrome \n"
     ]
    }
   ],
   "source": [
    "input_string = input ()\n",
    "\n",
    "cleaned_string = input_string.replace(\" \", \"\").lower()\n",
    "\n",
    "reversed_string = cleaned_string[::-1]\n",
    "\n",
    "if cleaned_string == reversed_string:\n",
    "    print(\"the input is a palindrome \")\n",
    "else :\n",
    "    print(\"the input is not a palindrme\")\n"
   ]
  },
  {
   "cell_type": "code",
   "execution_count": 30,
   "metadata": {},
   "outputs": [],
   "source": [
    "# 5. Create a program that takes a string as input and removes all the spaces from\n",
    "# it. Print the modified string without spaces."
   ]
  },
  {
   "cell_type": "code",
   "execution_count": 35,
   "metadata": {},
   "outputs": [
    {
     "name": "stdin",
     "output_type": "stream",
     "text": [
      " my name is ed .\n"
     ]
    },
    {
     "name": "stdout",
     "output_type": "stream",
     "text": [
      "mynameised.\n"
     ]
    }
   ],
   "source": [
    "strint_input = input ()\n",
    "\n",
    "modified_string = \"\"\n",
    "\n",
    "for char in strint_input:\n",
    "    if char != \" \":\n",
    "        modified_string += char\n",
    "        \n",
    "print(modified_string)"
   ]
  },
  {
   "cell_type": "code",
   "execution_count": null,
   "metadata": {},
   "outputs": [],
   "source": []
  }
 ],
 "metadata": {
  "kernelspec": {
   "display_name": "Python 3 (ipykernel)",
   "language": "python",
   "name": "python3"
  },
  "language_info": {
   "codemirror_mode": {
    "name": "ipython",
    "version": 3
   },
   "file_extension": ".py",
   "mimetype": "text/x-python",
   "name": "python",
   "nbconvert_exporter": "python",
   "pygments_lexer": "ipython3",
   "version": "3.10.8"
  }
 },
 "nbformat": 4,
 "nbformat_minor": 4
}
